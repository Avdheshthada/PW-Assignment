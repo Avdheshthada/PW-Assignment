{
 "cells": [
  {
   "cell_type": "code",
   "execution_count": 1,
   "id": "2119c03f-e36b-4149-8193-635bb024bca1",
   "metadata": {},
   "outputs": [],
   "source": [
    "#Ans-1\n",
    "\n",
    "#Keyword Use to Creat a c=funtion is \"def'.\n",
    "def odd_no(n) :\n",
    "    i=1\n",
    "    while i<=n  :\n",
    "        if i%2 ==1 :\n",
    "            print(i,'Odd number')\n",
    "        i=i+1 \n",
    "    return\n",
    "#for find odd no till range 25 Just call odd_no(25)"
   ]
  },
  {
   "cell_type": "code",
   "execution_count": 2,
   "id": "cc5c58dc-3233-4f99-8f80-ffa2afa6568a",
   "metadata": {},
   "outputs": [],
   "source": [
    "#Ans-2\n",
    "\n",
    "#*arges use for deffine n numbers,str,all and  ** use for dictionary\n",
    "def n_no(*args) :\n",
    "    return args\n",
    "#example = n_no(12,15,58,69)\n",
    "def dictionary(**okey) :\n",
    "    return okey\n",
    "#example = dictionary(a=1,b=5,c=88)\n"
   ]
  },
  {
   "cell_type": "code",
   "execution_count": 2,
   "id": "d961ebf3-641e-4095-a112-6df263ac2c47",
   "metadata": {},
   "outputs": [
    {
     "data": {
      "text/plain": [
       "10"
      ]
     },
     "execution_count": 2,
     "metadata": {},
     "output_type": "execute_result"
    }
   ],
   "source": [
    "#Ans-3\n",
    "\n",
    "#iterator = not going autometically in next its self. to change it in iteration we use iter().\n",
    "\n",
    "l=[2, 4, 6, 8, 10, 12, 14,16, 18, 20]\n",
    "l1=iter(l)\n",
    "next(l1)\n",
    "next(l1)\n",
    "next(l1)\n",
    "next(l1)\n",
    "next(l1)\n",
    "\n",
    "#i tried to get all in one program but not get this ans in one line as [2,4,6,8,10]\n",
    "\n",
    "\n",
    "\n"
   ]
  },
  {
   "cell_type": "code",
   "execution_count": 5,
   "id": "ef59e6d2-29dc-473d-a732-a7cfcec06fea",
   "metadata": {},
   "outputs": [
    {
     "name": "stdout",
     "output_type": "stream",
     "text": [
      "1\n"
     ]
    }
   ],
   "source": [
    "#Ans-4\n",
    "\n",
    "#generator= in this type of program it will generat out and display it not store first then display.\n",
    "            #a function that returns an iterator that produces a sequence of values when iterated over.\n",
    "        #Generators are useful when we want to produce a large sequence of values, but we don't want to store all of them in memory at once.\n",
    "#yield keyword is used = # to thrown to the output.\n",
    "\n",
    "def test(n) :\n",
    "    number =n\n",
    "    factorial =1\n",
    "    while number>0 :\n",
    "        yield factorial\n",
    "        factorial = factorial*number\n",
    "        number=number-1\n",
    "    return factorial\n",
    "    \n",
    "c = test(1)\n",
    "for i in c :\n",
    "    print(i)\n",
    "\n",
    "# put the in C= test( )"
   ]
  },
  {
   "cell_type": "code",
   "execution_count": 28,
   "id": "b9693bdc-c92f-4741-87b9-a47dcf2fa15f",
   "metadata": {},
   "outputs": [],
   "source": [
    "#Ans-5\n",
    "\n",
    "l=[]\n",
    "for num in range(0,1001):\n",
    "    if num > 1:\n",
    "        for i in range(2,num):\n",
    "            if (num % i) == 0:\n",
    "                break\n",
    "        else:\n",
    "            l.append(num)\n",
    "\n",
    "# for i in l :\n",
    "   # if len(l)<=20 :\n",
    "   #     print(i)\n",
    "   # else :\n",
    "    #    break ## this part is not running don't know why"
   ]
  },
  {
   "cell_type": "code",
   "execution_count": 3,
   "id": "f82a4977-a68f-4915-be04-e618f680863d",
   "metadata": {},
   "outputs": [
    {
     "name": "stdout",
     "output_type": "stream",
     "text": [
      "0\n",
      "1\n",
      "1\n",
      "2\n",
      "3\n",
      "5\n",
      "8\n",
      "13\n",
      "21\n",
      "34\n"
     ]
    }
   ],
   "source": [
    "#Ans-6\n",
    "(a,b) = (0,1)\n",
    "counter = 1\n",
    "while counter <=10 :\n",
    "    print(a)\n",
    "    c =a+b\n",
    "    a =b\n",
    "    b =c\n",
    "    counter =counter+1\n",
    "   \n"
   ]
  },
  {
   "cell_type": "code",
   "execution_count": 27,
   "id": "2952c1e9-3da4-4ff0-920e-e70d8a18a75e",
   "metadata": {},
   "outputs": [
    {
     "data": {
      "text/plain": [
       "['p', 'w', 's', 'k', 'i', 'l', 'l', 's']"
      ]
     },
     "execution_count": 27,
     "metadata": {},
     "output_type": "execute_result"
    }
   ],
   "source": [
    "#Ans-7\n",
    "\n",
    "l3=  'pwskills'\n",
    "[i for i in l3]"
   ]
  },
  {
   "cell_type": "code",
   "execution_count": null,
   "id": "53aa75ad-098c-4db8-80f9-a46934f0cf72",
   "metadata": {},
   "outputs": [],
   "source": [
    "#Ans - 8\n",
    "n = input('enter number')\n",
    "rev =n[::-1]\n",
    "count = 1\n",
    "while count <=1:\n",
    "    if n ==rev :\n",
    "        print('given number is Palindrome')\n",
    "        count = count+1\n",
    "    else:\n",
    "        print('given number is not Palindrome')\n",
    "        count = count+1"
   ]
  },
  {
   "cell_type": "code",
   "execution_count": null,
   "id": "3be7ddd3-8705-439f-83f7-72724816ee88",
   "metadata": {},
   "outputs": [],
   "source": [
    "#Ans -9\n",
    "l=range(0,101)\n",
    "l1 =[]\n",
    "for i in l :\n",
    "    l1.append(i)\n",
    "[i for i in l1 if i%2==1]"
   ]
  }
 ],
 "metadata": {
  "kernelspec": {
   "display_name": "Python 3 (ipykernel)",
   "language": "python",
   "name": "python3"
  },
  "language_info": {
   "codemirror_mode": {
    "name": "ipython",
    "version": 3
   },
   "file_extension": ".py",
   "mimetype": "text/x-python",
   "name": "python",
   "nbconvert_exporter": "python",
   "pygments_lexer": "ipython3",
   "version": "3.10.6"
  }
 },
 "nbformat": 4,
 "nbformat_minor": 5
}
