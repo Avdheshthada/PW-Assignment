{
 "cells": [
  {
   "cell_type": "code",
   "execution_count": 2,
   "id": "95a45b74-0ce3-4189-ae62-1a17bea71c3b",
   "metadata": {},
   "outputs": [],
   "source": [
    "#Ans-1 A Class is like an object constructor, or a \"blueprint\" for creating objects."
   ]
  },
  {
   "cell_type": "code",
   "execution_count": 3,
   "id": "b60d85ab-4d50-4afe-9b64-c2df47eb8a1f",
   "metadata": {},
   "outputs": [],
   "source": [
    "#Ans2- Inheritance, Polymorphism, Encapsulation and Abstraction"
   ]
  },
  {
   "cell_type": "code",
   "execution_count": 4,
   "id": "4ecd9fd3-5be3-4cb4-abb1-655a2119a696",
   "metadata": {},
   "outputs": [],
   "source": [
    "#Ans-3 \"__init__\" is a reseved method in python classes. It is called as a constructor in object oriented terminology. This method is called when an object is created from a class and it allows the class to initialize the attributes of the class"
   ]
  },
  {
   "cell_type": "code",
   "execution_count": 5,
   "id": "56b31eec-45b1-42a5-b766-eeeaf3ac2eb8",
   "metadata": {},
   "outputs": [],
   "source": [
    "#Ans-4 The self variable is used to represent the instance of the class which is often used in object-oriented programming. It works as a reference to the object. Python uses the self parameter to refer to instance attributes and methods of the class. we can replace self with any int. self is not a mandatory word. or it is not inbuilt function."
   ]
  },
  {
   "cell_type": "code",
   "execution_count": null,
   "id": "2dad88ed-d198-473d-9941-19b48d38414c",
   "metadata": {},
   "outputs": [],
   "source": [
    "#Ans-5 Inheritance allows us to define a class that inherits all the methods and properties from another class.\n",
    "class Person:\n",
    "    def __init__(self, fname, lname):\n",
    "    self.firstname = fname\n",
    "    self.lastname = lname\n",
    "\n",
    "    def printname(self):\n",
    "        print(self.firstname, self.lastname)"
   ]
  }
 ],
 "metadata": {
  "kernelspec": {
   "display_name": "Python 3 (ipykernel)",
   "language": "python",
   "name": "python3"
  },
  "language_info": {
   "codemirror_mode": {
    "name": "ipython",
    "version": 3
   },
   "file_extension": ".py",
   "mimetype": "text/x-python",
   "name": "python",
   "nbconvert_exporter": "python",
   "pygments_lexer": "ipython3",
   "version": "3.10.6"
  }
 },
 "nbformat": 4,
 "nbformat_minor": 5
}
