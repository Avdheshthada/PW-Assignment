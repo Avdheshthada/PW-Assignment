{
 "cells": [
  {
   "cell_type": "code",
   "execution_count": 1,
   "id": "bd074c70-b146-487a-a965-618d3ada3b4d",
   "metadata": {},
   "outputs": [
    {
     "name": "stdout",
     "output_type": "stream",
     "text": [
      "Flat List:  [1, 2, 3, 4, 44, 55, 66, 34, 56, 78, 89, 34, 1, 2, 3, 1, 4, 34, 55, 67, 78, 89, 45, 22, 61, 34, 56]\n",
      "Product of all the numbers:  4134711838987085478833841242112000\n"
     ]
    }
   ],
   "source": [
    "def flat_func(given_collection):\n",
    "    flat_list=[]\n",
    "    for each_element in given_collection:\n",
    "        if type(each_element)==int or type(each_element)==float:\n",
    "            flat_list.append(each_element)\n",
    "        #elif type(each_element)==bool:\n",
    "         #   flat_list.append(int(each_element))\n",
    "        elif type(each_element)==list or type(each_element)==set or type(each_element)==tuple:\n",
    "            flat_list.extend(flat_func(each_element))\n",
    "        elif type(each_element)==dict:\n",
    "            for each_nested_element in each_element.keys():\n",
    "                if type(each_nested_element)==int or type(each_nested_element)==float:\n",
    "                    flat_list.append(each_nested_element)\n",
    "            for each_nested_element in each_element.values():\n",
    "                if type(each_nested_element)==int or type(each_nested_element)==float:\n",
    "                    flat_list.append(each_nested_element)\n",
    "                elif type(each_nested_element)==list or type(each_nested_element)==tuple or type(each_nested_element)==set:\n",
    "                    flat_list.extend(flat_func(each_nested_element))\n",
    "\n",
    "    return flat_list\n",
    "\n",
    "\n",
    "given_list = [1,2,3,4,[44,55,66,True],False,(34,56,78,89,34),{1,2,3,3,2,1},{1:34,'key2':[55,67,78,89],4:(45,22,61,34)},[56,'data science'],'Machine Learning']\n",
    "\n",
    "flat_list=flat_func(given_list)\n",
    "\n",
    "result = 1\n",
    "for each_element in flat_list:\n",
    "    result = result*each_element\n",
    "\n",
    "print('Flat List: ', flat_list)\n",
    "print('Product of all the numbers: ',result)"
   ]
  },
  {
   "cell_type": "code",
   "execution_count": 2,
   "id": "46c00ec4-97e6-4f11-88d1-024126e82251",
   "metadata": {},
   "outputs": [
    {
     "name": "stdout",
     "output_type": "stream",
     "text": [
      "i$wxnt$to$yezome$x$dxtx$szientist\n"
     ]
    }
   ],
   "source": [
    "# Ans+-2\n",
    "Input_Sentence = 'I want to become a Data Scientist'\n",
    "input_Line=Input_Sentence.lower()\n",
    "\n",
    "x = {\"a\": \"x\", \"b\": \"y\",\n",
    "\t\t\"c\": \"z\",\" \":\"$\"}\n",
    "num = input_Line\n",
    "# Replace vowels using loops\n",
    "for i in x:\n",
    "\tnum = num.replace(i, x[i])\n",
    "\n",
    "# f- strings which improves readability\n",
    "print(num)\n"
   ]
  },
  {
   "cell_type": "code",
   "execution_count": 14,
   "id": "cb4b5c8f-c9f9-4685-872d-0de992216db4",
   "metadata": {},
   "outputs": [],
   "source": []
  },
  {
   "cell_type": "code",
   "execution_count": 15,
   "id": "59894cdc-79cc-4011-9d0b-0c327025274d",
   "metadata": {},
   "outputs": [
    {
     "data": {
      "text/plain": [
       "str"
      ]
     },
     "execution_count": 15,
     "metadata": {},
     "output_type": "execute_result"
    }
   ],
   "source": []
  },
  {
   "cell_type": "code",
   "execution_count": null,
   "id": "3374b424-f2cd-4ad1-82af-3a1256f7302f",
   "metadata": {},
   "outputs": [],
   "source": []
  }
 ],
 "metadata": {
  "kernelspec": {
   "display_name": "Python 3 (ipykernel)",
   "language": "python",
   "name": "python3"
  },
  "language_info": {
   "codemirror_mode": {
    "name": "ipython",
    "version": 3
   },
   "file_extension": ".py",
   "mimetype": "text/x-python",
   "name": "python",
   "nbconvert_exporter": "python",
   "pygments_lexer": "ipython3",
   "version": "3.10.6"
  }
 },
 "nbformat": 4,
 "nbformat_minor": 5
}
