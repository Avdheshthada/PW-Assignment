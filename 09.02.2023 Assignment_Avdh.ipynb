{
 "cells": [
  {
   "cell_type": "code",
   "execution_count": null,
   "id": "82a3092d-a6e0-422e-b9c5-2d2fc9e29502",
   "metadata": {},
   "outputs": [],
   "source": [
    "#Ans-1\n",
    "\n",
    "class vehicle_class:\n",
    "    def __init__(self,name_of_vehicle,max_speed,average_of_vehicle) :\n",
    "        self.name_of_vehicle = name_of_vehicle\n",
    "        self.max_speed = max_speed\n",
    "        self.average_of_vehicle = average_of_vehicle\n",
    "        \n",
    "        \n",
    "vehicle_class_obj = vehicle_class('Thar',200,22)"
   ]
  },
  {
   "cell_type": "code",
   "execution_count": null,
   "id": "90ad4227-3644-47f1-aad8-bde362815170",
   "metadata": {},
   "outputs": [],
   "source": [
    "#Ans-2\n",
    "\n",
    "class vehicle_class:\n",
    "    def __init__(self,name_of_vehicle,max_speed,average_of_vehicle) :\n",
    "        self.name_of_vehicle = name_of_vehicle\n",
    "        self.max_speed = max_speed\n",
    "        self.average_of_vehicle = average_of_vehicle\n",
    "\n",
    "class child_class_car(vehicle_class) :\n",
    "    def total_seating_capacity(self,seating_capacity) :\n",
    "        return self.name_of_vehicle,seating_capacity\n",
    "\n",
    "child_class_car_obj = child_class_car('Thar',200,22)\n",
    "\n",
    "print(child_class_car_obj.total_seating_capacity(4))"
   ]
  },
  {
   "cell_type": "code",
   "execution_count": null,
   "id": "ff0c2957-cd4a-4c73-a798-b01455e4b06c",
   "metadata": {},
   "outputs": [],
   "source": [
    "#Ans-3 Deriving a class from more than one direct base class is called multiple inheritance.\n",
    "\n",
    "class Google:\n",
    "    def search_Google(self) :\n",
    "        return 'search on goolge'\n",
    "class Pwskills :\n",
    "    def search_Pwskils(self):\n",
    "        return 'search Pwskills'\n",
    "class result(Google,Pwskills) :\n",
    "    pass\n",
    "result_obj = result()\n",
    "result_obj.search_Pwskils()\n"
   ]
  },
  {
   "cell_type": "code",
   "execution_count": null,
   "id": "7b0edfb5-57eb-4e54-bf58-0c6740d501ba",
   "metadata": {},
   "outputs": [],
   "source": [
    "#Ans-4 Getters: These are the methods used in Object-Oriented Programming (OOPS) which helps to access the private attributes from a class. \n",
    "#Setters: These are the methods used in OOPS feature which helps to set the value to private attributes in a class.\n",
    "class Avdh:\n",
    "    def __init__(self,age=0) :\n",
    "        self._age = age\n",
    "    # getter method\n",
    "    def get_age(self):\n",
    "        return self._age\n",
    "    # setter method\n",
    "    def set_age(self,x):\n",
    "        self._age = x\n",
    "Avdhesh =Avdh()\n",
    "Avdhesh.set_age(25)\n",
    "Avdhesh.get_age()\n",
    "\n"
   ]
  },
  {
   "cell_type": "code",
   "execution_count": null,
   "id": "9b08c6a0-0251-4407-b429-8c096d542140",
   "metadata": {},
   "outputs": [],
   "source": [
    "#Ans-5 Method overriding is a feature of object-oriented programming languages where the subclass or\n",
    "#child class can provide the program with specific characteristics or a specific implementation process of data provided\n",
    "#that are already defined in the parent class or superclass.\n",
    "\n",
    "class Big_data:\n",
    "    def study_hrs(self) :\n",
    "        print ('big data study hrs ')\n",
    "class data_science :\n",
    "    def study_hrs(self):\n",
    "        print('data science study hrs')\n",
    "    \n",
    "\n",
    "\n",
    "\n"
   ]
  }
 ],
 "metadata": {
  "kernelspec": {
   "display_name": "Python 3 (ipykernel)",
   "language": "python",
   "name": "python3"
  },
  "language_info": {
   "codemirror_mode": {
    "name": "ipython",
    "version": 3
   },
   "file_extension": ".py",
   "mimetype": "text/x-python",
   "name": "python",
   "nbconvert_exporter": "python",
   "pygments_lexer": "ipython3",
   "version": "3.10.8"
  }
 },
 "nbformat": 4,
 "nbformat_minor": 5
}
