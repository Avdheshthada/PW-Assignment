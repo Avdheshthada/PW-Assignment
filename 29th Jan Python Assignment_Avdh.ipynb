{
 "cells": [
  {
   "cell_type": "code",
   "execution_count": 1,
   "id": "1b6b7557-8439-4860-8c7f-73f2aafc0316",
   "metadata": {},
   "outputs": [
    {
     "data": {
      "text/plain": [
       "'Ans.1 Guido van Rossum'"
      ]
     },
     "execution_count": 1,
     "metadata": {},
     "output_type": "execute_result"
    }
   ],
   "source": [
    "\"Ans.1 Guido van Rossum\""
   ]
  },
  {
   "cell_type": "code",
   "execution_count": 2,
   "id": "8c825be6-22f6-4977-9111-e2c80f058130",
   "metadata": {},
   "outputs": [
    {
     "data": {
      "text/plain": [
       "'Ans.2 Python is an interpreted programming language, supporting object-oriented, structured, and functional programming'"
      ]
     },
     "execution_count": 2,
     "metadata": {},
     "output_type": "execute_result"
    }
   ],
   "source": [
    "\"Ans.2 Python is an interpreted programming language, supporting object-oriented, structured, and functional programming\""
   ]
  },
  {
   "cell_type": "code",
   "execution_count": 3,
   "id": "bdb2b951-bc04-466b-8865-4d385b257c88",
   "metadata": {},
   "outputs": [
    {
     "data": {
      "text/plain": [
       "'Ans. 3 Yes'"
      ]
     },
     "execution_count": 3,
     "metadata": {},
     "output_type": "execute_result"
    }
   ],
   "source": [
    "'Ans. 3 Yes'"
   ]
  },
  {
   "cell_type": "code",
   "execution_count": 4,
   "id": "d3b271e6-22a5-4c08-a9f0-d43f030f4d73",
   "metadata": {},
   "outputs": [
    {
     "data": {
      "text/plain": [
       "'Ans.4 .py'"
      ]
     },
     "execution_count": 4,
     "metadata": {},
     "output_type": "execute_result"
    }
   ],
   "source": [
    "'Ans.4 .py'"
   ]
  },
  {
   "cell_type": "code",
   "execution_count": 5,
   "id": "0bb35f96-0bc2-4e13-bf5c-11c8290d8158",
   "metadata": {},
   "outputs": [
    {
     "data": {
      "text/plain": [
       "'Ans.5 Python is an interpreted language'"
      ]
     },
     "execution_count": 5,
     "metadata": {},
     "output_type": "execute_result"
    }
   ],
   "source": [
    "'Ans.5 Python is an interpreted language'"
   ]
  },
  {
   "cell_type": "code",
   "execution_count": 7,
   "id": "a9c43a03-dfbf-4dd3-bed4-3c7a1a7f0e64",
   "metadata": {},
   "outputs": [
    {
     "data": {
      "text/plain": [
       "'Ans.6 a module, a function body, and a class definition'"
      ]
     },
     "execution_count": 7,
     "metadata": {},
     "output_type": "execute_result"
    }
   ],
   "source": [
    "'Ans.6 a module, a function body, and a class definition'"
   ]
  },
  {
   "cell_type": "code",
   "execution_count": 8,
   "id": "e056141e-43e5-4963-95cd-0226dec5cdc2",
   "metadata": {},
   "outputs": [
    {
     "data": {
      "text/plain": [
       "'Ans.7 Double Hash character(##)'"
      ]
     },
     "execution_count": 8,
     "metadata": {},
     "output_type": "execute_result"
    }
   ],
   "source": [
    "'Ans.7 Double Hash character(##)'"
   ]
  },
  {
   "cell_type": "code",
   "execution_count": 9,
   "id": "c09894ee-8ec3-4685-87ff-816704ee6bf4",
   "metadata": {},
   "outputs": [
    {
     "data": {
      "text/plain": [
       "'Ans.08 Using sys. version method.Using python_version() function.Using Python -V command.'"
      ]
     },
     "execution_count": 9,
     "metadata": {},
     "output_type": "execute_result"
    }
   ],
   "source": [
    "'Ans.08 Using sys. version method.' 'Using python_version() function.' 'Using Python -V command.'"
   ]
  },
  {
   "cell_type": "code",
   "execution_count": 1,
   "id": "ccd47076-a4dd-40a0-a5a4-313e467e5957",
   "metadata": {},
   "outputs": [
    {
     "data": {
      "text/plain": [
       "'Ans.09 lambda'"
      ]
     },
     "execution_count": 1,
     "metadata": {},
     "output_type": "execute_result"
    }
   ],
   "source": [
    "'Ans.09 lambda'"
   ]
  },
  {
   "cell_type": "code",
   "execution_count": 2,
   "id": "2d6673a4-ec62-4620-bb75-4b8d4ca85927",
   "metadata": {},
   "outputs": [
    {
     "data": {
      "text/plain": [
       "'Ans.10 preferred installer program'"
      ]
     },
     "execution_count": 2,
     "metadata": {},
     "output_type": "execute_result"
    }
   ],
   "source": [
    "'Ans.10 preferred installer program'"
   ]
  },
  {
   "cell_type": "code",
   "execution_count": 3,
   "id": "6d4ed70f-2a45-4b33-bbae-7f84daf39082",
   "metadata": {},
   "outputs": [
    {
     "data": {
      "text/plain": [
       "'sorted( ) function.'"
      ]
     },
     "execution_count": 3,
     "metadata": {},
     "output_type": "execute_result"
    }
   ],
   "source": [
    "'Ans. 11'\n",
    "'print( ) function.'\n",
    "'type( ) function.'\n",
    "'input( ) function.'\n",
    "'dir( ) function.'\n",
    "'sorted( ) function.'"
   ]
  },
  {
   "cell_type": "code",
   "execution_count": 4,
   "id": "978a078f-02e8-4c71-aaab-714edadb4de8",
   "metadata": {},
   "outputs": [
    {
     "data": {
      "text/plain": [
       "'Ans. 12 79 characters'"
      ]
     },
     "execution_count": 4,
     "metadata": {},
     "output_type": "execute_result"
    }
   ],
   "source": [
    "'Ans. 12 79 characters'"
   ]
  },
  {
   "cell_type": "code",
   "execution_count": 5,
   "id": "f55d25e5-6508-419c-8aa7-7c67c9a1b565",
   "metadata": {},
   "outputs": [
    {
     "data": {
      "text/plain": [
       "'Ans.13 developing websites and software, task automation, data analysis, and data visualization'"
      ]
     },
     "execution_count": 5,
     "metadata": {},
     "output_type": "execute_result"
    }
   ],
   "source": [
    "'Ans.13 developing websites and software, task automation, data analysis, and data visualization'"
   ]
  },
  {
   "cell_type": "code",
   "execution_count": 6,
   "id": "97760e9d-0683-410d-80b8-bf8ef0174d21",
   "metadata": {},
   "outputs": [
    {
     "data": {
      "text/plain": [
       "'Ans.14 Memory management in Python involves a private heap containing all Python objects and data structures'"
      ]
     },
     "execution_count": 6,
     "metadata": {},
     "output_type": "execute_result"
    }
   ],
   "source": [
    "'Ans.14 Memory management in Python involves a private heap containing all Python objects and data structures'"
   ]
  },
  {
   "cell_type": "code",
   "execution_count": 8,
   "id": "80c004ae-4234-40fe-ac6d-6582ef44f765",
   "metadata": {},
   "outputs": [],
   "source": [
    "#Ans.15 ## Right-clicking This PC and going to Properties.\n",
    "\n",
    "#Clicking on the Advanced system settings in the menu on the left.\n",
    "\n",
    "#Clicking on the Environment Variables button on the bottom right.\n",
    "\n",
    "#In the System variables section, selecting the Path variable and clicking on Edit. The next screen will show all the directories that are currently a part of the PATH variable.\n",
    "\n",
    "#Clicking on New and entering Python’s install directory."
   ]
  },
  {
   "cell_type": "code",
   "execution_count": null,
   "id": "8a4eecff-2f20-4bdc-8c36-93d4073ca7c2",
   "metadata": {},
   "outputs": [],
   "source": [
    "'Ans.16 Yes,Indentation is mandatory in python to define the blocks of statements'"
   ]
  }
 ],
 "metadata": {
  "kernelspec": {
   "display_name": "Python 3 (ipykernel)",
   "language": "python",
   "name": "python3"
  },
  "language_info": {
   "codemirror_mode": {
    "name": "ipython",
    "version": 3
   },
   "file_extension": ".py",
   "mimetype": "text/x-python",
   "name": "python",
   "nbconvert_exporter": "python",
   "pygments_lexer": "ipython3",
   "version": "3.10.6"
  }
 },
 "nbformat": 4,
 "nbformat_minor": 5
}
