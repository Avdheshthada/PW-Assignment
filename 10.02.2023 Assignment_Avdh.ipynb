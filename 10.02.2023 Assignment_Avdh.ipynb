{
 "cells": [
  {
   "cell_type": "code",
   "execution_count": 3,
   "id": "dd8c38d6-4a20-46e2-9f3c-9ac2b4ff236e",
   "metadata": {},
   "outputs": [],
   "source": [
    "#Ans 1  open() method is used to open a file in python. there are the six different modes of opening a file as Read Only (‘r’),Read and Write (‘r+’),Write Only (‘w’),Write and Read (‘w+’),Append Only (‘a’),Append and Read (‘a+’).\n",
    "f = open('Myfle','w')\n",
    "f.write('this is my firts flie')\n",
    "f.close()\n",
    "f = open('Myfle','r')\n",
    "f.read()\n",
    "f.close()\n",
    "f = open('Myfle','r+')\n",
    "f = open('Myfle','w')\n",
    "f = open('Myfle','w+')\n",
    "f = open('Myfle','a')\n",
    "f = open('Myfle','a+')\n",
    "\n",
    "\n"
   ]
  },
  {
   "cell_type": "code",
   "execution_count": 4,
   "id": "228bc73d-8d89-41f1-88b4-dc96795b4a2f",
   "metadata": {},
   "outputs": [],
   "source": [
    "#Ans 2 The close() method closes an open file. You should always close your files, in some cases, due to buffering, changes made to a file may not show until you close the file"
   ]
  },
  {
   "cell_type": "code",
   "execution_count": 10,
   "id": "b57f72df-3fc4-43b1-bfc7-ace4e7d4bed9",
   "metadata": {},
   "outputs": [],
   "source": [
    "#Ans 3 \n",
    "f = open('data','w')\n",
    "f.write('I want to become a Data Scientist')\n",
    "f.close()\n",
    "f = open('data','r')\n",
    "f.read()"
   ]
  },
  {
   "cell_type": "code",
   "execution_count": null,
   "id": "f28976c7-7aed-459c-8c2b-7ab74be13e36",
   "metadata": {},
   "outputs": [],
   "source": [
    "#Ans4 The read() method returns the specified number of bytes from the file. Default is -1 which means the whole file.Python readline() method will return a line from the file when called. readlines() method will return all the lines in a file in the format of a list where each element is a line in the file.\n"
   ]
  },
  {
   "cell_type": "code",
   "execution_count": null,
   "id": "936218ef-9c90-4086-9d50-f3fdfc46948b",
   "metadata": {},
   "outputs": [],
   "source": [
    "#Ans 6 The only difference between the write() and writelines() is that write() is used to write a string to an already opened file while writelines() method is used to write a list of strings in an opened file."
   ]
  }
 ],
 "metadata": {
  "kernelspec": {
   "display_name": "Python 3 (ipykernel)",
   "language": "python",
   "name": "python3"
  },
  "language_info": {
   "codemirror_mode": {
    "name": "ipython",
    "version": 3
   },
   "file_extension": ".py",
   "mimetype": "text/x-python",
   "name": "python",
   "nbconvert_exporter": "python",
   "pygments_lexer": "ipython3",
   "version": "3.10.8"
  }
 },
 "nbformat": 4,
 "nbformat_minor": 5
}
