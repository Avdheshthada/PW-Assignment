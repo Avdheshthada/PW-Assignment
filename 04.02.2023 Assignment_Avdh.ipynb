{
 "cells": [
  {
   "cell_type": "code",
   "execution_count": 1,
   "id": "41f2a7e5-c9dd-4510-8e4e-89524b09322a",
   "metadata": {},
   "outputs": [],
   "source": [
    "#Ans-1\n",
    "l=[('Sachin Tendulkar', 34357), ('Ricky Ponting', 27483), ('Jack Kallis', 25534), ('Virat Kohli', 24936)]\n",
    "l1 = sorted(l, key=lambda x : x[1])"
   ]
  },
  {
   "cell_type": "code",
   "execution_count": 2,
   "id": "e14ffde2-4d4e-4d8e-a841-27a5ee1e48e8",
   "metadata": {},
   "outputs": [
    {
     "name": "stdout",
     "output_type": "stream",
     "text": [
      "[1, 4, 9, 16, 25, 36, 49, 64, 81, 100]\n"
     ]
    }
   ],
   "source": [
    "#Ans-2\n",
    "l=[1, 2, 3, 4, 5, 6, 7, 8, 9, 10]\n",
    "l1 =[]\n",
    "for i in l : \n",
    "    a=lambda x:x**2\n",
    "    l1.append(a(i))\n",
    "\n",
    "print(l1)\n",
    "\n",
    "\n",
    "#With map function\n",
    "\n",
    "=[1, 2, 3, 4, 5, 6, 7, 8, 9, 10]\n",
    "a = lambda x:x**2\n",
    "list(map(lambda x : x**2,l))\n"
   ]
  },
  {
   "cell_type": "code",
   "execution_count": null,
   "id": "686e104f-b781-4900-897f-c29e8c60155d",
   "metadata": {},
   "outputs": [],
   "source": [
    "#Ans=3\n",
    "l=[1, 2, 3, 4, 5, 6, 7, 8, 9, 10]\n",
    "a=(lambda x : x)\n",
    "tuple(map(a,l))"
   ]
  },
  {
   "cell_type": "code",
   "execution_count": null,
   "id": "22a9b00e-ae4a-4de3-9ea8-cca3d96e5da6",
   "metadata": {},
   "outputs": [],
   "source": [
    "#Ans-4\n",
    "a = range(1,26)\n",
    "l = []\n",
    "for i in a :\n",
    "    l.append(i)\n",
    "l\n",
    "from functools import reduce\n",
    "reduce(lambda x,y: x+y,l)\n",
    "    "
   ]
  },
  {
   "cell_type": "code",
   "execution_count": null,
   "id": "7656ffaa-8647-44b7-964c-b34a24e9e27c",
   "metadata": {},
   "outputs": [],
   "source": [
    "#Ans-5\n",
    "list(filter(lambda x:x%2 ==0 or x%3==0,a))"
   ]
  },
  {
   "cell_type": "code",
   "execution_count": null,
   "id": "e018ff16-ebce-4a3d-844d-6de545949fdb",
   "metadata": {},
   "outputs": [],
   "source": [
    "#Ans-6\n",
    "o=['python', 'php', 'aba', 'radar', 'level']\n",
    "list(filter(lambda x:x[::-1]==x,o))"
   ]
  },
  {
   "cell_type": "code",
   "execution_count": null,
   "id": "01dabf84-ad8c-4065-89e7-c22c4b87720b",
   "metadata": {},
   "outputs": [],
   "source": []
  }
 ],
 "metadata": {
  "kernelspec": {
   "display_name": "Python 3 (ipykernel)",
   "language": "python",
   "name": "python3"
  },
  "language_info": {
   "codemirror_mode": {
    "name": "ipython",
    "version": 3
   },
   "file_extension": ".py",
   "mimetype": "text/x-python",
   "name": "python",
   "nbconvert_exporter": "python",
   "pygments_lexer": "ipython3",
   "version": "3.10.6"
  }
 },
 "nbformat": 4,
 "nbformat_minor": 5
}
