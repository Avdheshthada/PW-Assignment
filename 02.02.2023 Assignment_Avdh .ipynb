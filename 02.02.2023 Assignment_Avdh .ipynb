{
 "cells": [
  {
   "cell_type": "code",
   "execution_count": 1,
   "id": "e7f819cd-0b9c-4f9a-a25c-ec8abd788928",
   "metadata": {},
   "outputs": [
    {
     "ename": "SyntaxError",
     "evalue": "incomplete input (1390929296.py, line 10)",
     "output_type": "error",
     "traceback": [
      "\u001b[0;36m  Cell \u001b[0;32mIn [1], line 10\u001b[0;36m\u001b[0m\n\u001b[0;31m    \u001b[0m\n\u001b[0m    ^\u001b[0m\n\u001b[0;31mSyntaxError\u001b[0m\u001b[0;31m:\u001b[0m incomplete input\n"
     ]
    }
   ],
   "source": [
    "\n",
    "#Ans-\n",
    "#For loops are used for sequential traversal.it will self calculus length of data\n",
    "l =[1,5,8,9,7,8,9]\n",
    "for i in l :\n",
    "    print(i)\n",
    "#while loop is used to run a block code until a certain condition is met.\n",
    "i = 1\n",
    "while i < 6:\n",
    "  print(i)\n",
    "  i += 1\n",
    "    "
   ]
  },
  {
   "cell_type": "code",
   "execution_count": 20,
   "id": "82b0906b-91e2-4852-ab26-d1b45aa9c92d",
   "metadata": {},
   "outputs": [
    {
     "data": {
      "text/plain": [
       "55"
      ]
     },
     "execution_count": 20,
     "metadata": {},
     "output_type": "execute_result"
    }
   ],
   "source": [
    "#Ans-2 \n",
    "# For loop\n",
    "l = range(0,11)\n",
    "l1 = []\n",
    "for i in l :\n",
    "    l1.append(i)\n",
    "sum(l1)\n",
    " # While loop\n",
    "l = range(0,11)\n",
    "counter = 1\n",
    "while counter <= len(l) :\n",
    "    s=sum(l)\n",
    "    counter = counter+1\n",
    "print(s)\n",
    "    \n",
    "\n",
    "\n"
   ]
  },
  {
   "cell_type": "code",
   "execution_count": 7,
   "id": "16f5e12e-6b81-44e5-b719-e6fc195601c4",
   "metadata": {},
   "outputs": [
    {
     "name": "stdin",
     "output_type": "stream",
     "text": [
      "please enter of total unilt 250\n"
     ]
    },
    {
     "name": "stdout",
     "output_type": "stream",
     "text": [
      "650.0 total electricity amount\n"
     ]
    }
   ],
   "source": [
    "#Ans-3\n",
    "n =int(input('please enter of total unilt'))\n",
    "n1= 100\n",
    "n2 = 200\n",
    "n3 = 300\n",
    "if n<=n1 :\n",
    "    print(n*4.5,\"total electricity amount\")\n",
    "elif n <=n2 :\n",
    "    print((n1*4.5)+((n2-n)*6),\"total electricity amount\")\n",
    "elif n <= n3 :\n",
    "    print((n1*4.5)+((n2-n)*6)+((n3-n)*10),\"total electricity amount\")\n",
    "elif n >n3 :\n",
    "    print((n1*4.5)+(n2-n1)*(6)+(n3-n2)*(10)+(n-n3)*(20),\"total electricity amount\")"
   ]
  },
  {
   "cell_type": "code",
   "execution_count": 21,
   "id": "892b4703-0cf7-4c45-a3a6-1f14deab6376",
   "metadata": {},
   "outputs": [
    {
     "data": {
      "text/plain": [
       "11"
      ]
     },
     "execution_count": 21,
     "metadata": {},
     "output_type": "execute_result"
    }
   ],
   "source": [
    "#Ans-4\n",
    "k = range(0,101)\n",
    "l = []\n",
    "for i in k :\n",
    "    l.append(i)\n",
    "l1=[a**3 for a in l]\n",
    "for s in l1 :\n",
    "    if s%4==0 or s%5 ==0 :\n",
    "        print(s)"
   ]
  },
  {
   "cell_type": "code",
   "execution_count": null,
   "id": "b41f7fed-3efc-4973-998f-cfe095721235",
   "metadata": {},
   "outputs": [],
   "source": [
    "#Ans-5\n",
    "l= \"I want to become a data scientist\"\n",
    "l1=l.lower()\n",
    "\n",
    "k =[]\n",
    "for s in l1 :\n",
    "    if s == 'a' :\n",
    "        print('a',l1.count('a'))\n",
    "        k.append('a')\n",
    "    elif s =='e' :\n",
    "        print('e',l1.count('e'))\n",
    "        k.append('e')\n",
    "    elif s == 'i' :\n",
    "        print('i',l1.count('i'))\n",
    "        k.append('i')\n",
    "    elif s=='o' :\n",
    "        print('o',l1.count('o'))\n",
    "        k.append('o')\n",
    "    elif s=='u' :\n",
    "        print('u',l1.count('u'))\n",
    "        k.append('u')"
   ]
  }
 ],
 "metadata": {
  "kernelspec": {
   "display_name": "Python 3 (ipykernel)",
   "language": "python",
   "name": "python3"
  },
  "language_info": {
   "codemirror_mode": {
    "name": "ipython",
    "version": 3
   },
   "file_extension": ".py",
   "mimetype": "text/x-python",
   "name": "python",
   "nbconvert_exporter": "python",
   "pygments_lexer": "ipython3",
   "version": "3.10.6"
  }
 },
 "nbformat": 4,
 "nbformat_minor": 5
}
