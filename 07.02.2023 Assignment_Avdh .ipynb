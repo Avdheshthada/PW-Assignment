{
 "cells": [
  {
   "cell_type": "code",
   "execution_count": 4,
   "id": "e749dc98-ba62-4597-87c0-b1fb3a7328a9",
   "metadata": {},
   "outputs": [
    {
     "name": "stdin",
     "output_type": "stream",
     "text": [
      "Please enter your password AVdh@#&2023\n"
     ]
    },
    {
     "name": "stdout",
     "output_type": "stream",
     "text": [
      "Valid Password\n"
     ]
    }
   ],
   "source": [
    "#Ans-1\n",
    "Inpur_Password = str(input('Please enter your password'))\n",
    "Corrent_passowrd = 'AVdh@#&2023'\n",
    "if Inpur_Password == Corrent_passowrd :\n",
    "    print('Valid Password')\n",
    "else :\n",
    "    print('Invalid Password')\n",
    "\n"
   ]
  },
  {
   "cell_type": "code",
   "execution_count": null,
   "id": "7f268d1d-2e2a-476a-b3d0-e6afd11255ab",
   "metadata": {},
   "outputs": [],
   "source": [
    "#Ans-2\n",
    "#2.1 Check if the string starts with a particular letter\n",
    "line = 'pwskills2023'\n",
    "['Start with p' if line[0] == 'p' else 'Not start with p' for i in line[0]]\n",
    "\n",
    "#2.2 Check if the string is numeric.\n",
    "Number = \"2023\"\n",
    "['numeric' if type(Number) == int else 'Not numeric']\n",
    "\n",
    "#2.3 Sort a list of tuples having fruit names and their quantity. [(\"mango\",99),(\"orange\",80), (\"grapes\", 1000)]\n",
    "#not solved\n",
    "\n",
    "#2.4 Find the squares of numbers from 1 to 10.\n",
    "L = [1,2,3,4,5,6,7,8,9,10]\n",
    "list(map(lambda s : s**2,L))\n",
    "\n",
    "#2.5 Find the cube root of numbers from 1 to 10.\n",
    "L = [1,2,3,4,5,6,7,8,9,10]\n",
    "list(map(lambda s : s**3,L))\n",
    "\n",
    "\n",
    "#2.6 Check if a given number is even\n",
    "Number = int(input('Enter no.'))\n",
    "['Even' if Number%2 ==0 else 'odd']\n",
    "\n",
    "#2.7 Filter odd numbers from the given list.\n",
    "l= [1,2,3,4,5,6,7,8,9,10]\n",
    "list(filter(lambda x:x%2 ==1,l))\n",
    "\n",
    "#2.8 Sort a list of integers into positive and negative integers lists.\n",
    "l=[1,2,3,4,5,6,-1,-2,-3,-4,-5,0]\n",
    "# for positive integers lists\n",
    "positive_integers_lists=list(filter(lambda x:x>=0,l))\n",
    "print(positive_integers_lists)\n",
    "# for negative integers lists\n",
    "negative_integers_lists=list(filter(lambda x:x<0,l))\n",
    "print(negative_integers_lists)\n",
    "\n",
    "\n",
    "\n",
    "\n"
   ]
  }
 ],
 "metadata": {
  "kernelspec": {
   "display_name": "Python 3 (ipykernel)",
   "language": "python",
   "name": "python3"
  },
  "language_info": {
   "codemirror_mode": {
    "name": "ipython",
    "version": 3
   },
   "file_extension": ".py",
   "mimetype": "text/x-python",
   "name": "python",
   "nbconvert_exporter": "python",
   "pygments_lexer": "ipython3",
   "version": "3.10.6"
  }
 },
 "nbformat": 4,
 "nbformat_minor": 5
}
