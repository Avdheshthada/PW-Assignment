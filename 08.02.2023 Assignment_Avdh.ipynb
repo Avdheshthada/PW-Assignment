{
 "cells": [
  {
   "cell_type": "code",
   "execution_count": null,
   "id": "926324af-35d6-4c02-a7b4-c7e65cd343db",
   "metadata": {},
   "outputs": [],
   "source": [
    "#Ans-1 What is Abstraction in OOps? Explain with an example.\n",
    "\n",
    "Abstraction is used to hide the internal functionality of the function from the users. \n",
    "The users only interact with the basic implementation of the function, but inner working is hidden.\n",
    "\n",
    "class Tesla(Car):   \n",
    "    def mileage(self):   \n",
    "        print(\"The mileage is 30kmph\")  \n"
   ]
  },
  {
   "cell_type": "code",
   "execution_count": 1,
   "id": "7fbe97af-a715-46b5-b6d4-de8e7aa010f9",
   "metadata": {},
   "outputs": [
    {
     "ename": "SyntaxError",
     "evalue": "invalid syntax (2557577395.py, line 3)",
     "output_type": "error",
     "traceback": [
      "\u001b[0;36m  Cell \u001b[0;32mIn[1], line 3\u001b[0;36m\u001b[0m\n\u001b[0;31m    Abstraction is a design level process and it is used to reduce the complexity at the designing stage of a project.\u001b[0m\n\u001b[0m                     ^\u001b[0m\n\u001b[0;31mSyntaxError\u001b[0m\u001b[0;31m:\u001b[0m invalid syntax\n"
     ]
    }
   ],
   "source": [
    "#Ans-2 Differentiate between Abstraction and Encapsulation. Explain with an example.\n",
    "\n",
    "Abstraction is a design level process and it is used to reduce the complexity at the designing stage of a project. \n",
    "Encapsulation is an implementation level process, and it is used to provide privacy and maintain control over the transparency of data at the implementation stage of a projec\n",
    "Abstraction is hiding the details and implementation of the code. Encapsulation is hiding the data and controlling the visibility of the code.\n",
    "\n",
    "\n",
    "#Abstraction\n",
    "class bank_account:\n",
    "    def __init__(self,balance) :\n",
    "        self.__balance = balance\n",
    "#Encapsulation        \n",
    "class bank_account:\n",
    "    def __init__(self,balance) :\n",
    "        self.balance = balance"
   ]
  },
  {
   "cell_type": "code",
   "execution_count": 2,
   "id": "776c0309-d91f-4112-9a59-e83e688acb48",
   "metadata": {},
   "outputs": [],
   "source": [
    "#Ans-3 The 'abc' module in Python library provides the infrastructure for defining custom abstract base classes.\n",
    "#The 'abc' module in the Python library provides the infrastructure for defining custom abstract base classes.\n",
    "#Abstract class cannot be instantiated in python. An Abstract method can be call by its subclasses\n"
   ]
  },
  {
   "cell_type": "code",
   "execution_count": 3,
   "id": "5bd7a8a1-457d-477e-b59d-9b76cbab32f7",
   "metadata": {},
   "outputs": [],
   "source": [
    "#Ans-4 In Python, abstraction can be achieved by having/using abstract classes and methods in our programs. Understanding Abstract Methods and Classes: An abstract method is a method that is declared, but does not contain implementation."
   ]
  },
  {
   "cell_type": "code",
   "execution_count": null,
   "id": "de78c4a7-ab72-4734-b38b-e1e627d0d63b",
   "metadata": {},
   "outputs": [],
   "source": [
    "#Ans-5 Abstract classes cannot be instantiated, but they can be subclassed. When an abstract class is subclassed, the subclass usually provides implementations for all of the abstract methods in its parent class.\n",
    "#However, if it does not, then the subclass must also be declared abstract ."
   ]
  }
 ],
 "metadata": {
  "kernelspec": {
   "display_name": "Python 3 (ipykernel)",
   "language": "python",
   "name": "python3"
  },
  "language_info": {
   "codemirror_mode": {
    "name": "ipython",
    "version": 3
   },
   "file_extension": ".py",
   "mimetype": "text/x-python",
   "name": "python",
   "nbconvert_exporter": "python",
   "pygments_lexer": "ipython3",
   "version": "3.10.8"
  }
 },
 "nbformat": 4,
 "nbformat_minor": 5
}
