{
 "cells": [
  {
   "cell_type": "code",
   "execution_count": 1,
   "id": "bd074c70-b146-487a-a965-618d3ada3b4d",
   "metadata": {},
   "outputs": [],
   "source": [
    "Input_Sentence = 'I want to become a Data Scientist'\n",
    "l=Input_Sentence.lower()"
   ]
  },
  {
   "cell_type": "code",
   "execution_count": 2,
   "id": "368c1522-bb0f-4094-8934-d896f07a2881",
   "metadata": {},
   "outputs": [
    {
     "ename": "TypeError",
     "evalue": "'type' object is not subscriptable",
     "output_type": "error",
     "traceback": [
      "\u001b[0;31m---------------------------------------------------------------------------\u001b[0m",
      "\u001b[0;31mTypeError\u001b[0m                                 Traceback (most recent call last)",
      "Cell \u001b[0;32mIn [2], line 1\u001b[0m\n\u001b[0;32m----> 1\u001b[0m l1 \u001b[38;5;241m=\u001b[39m\u001b[38;5;28;43mstr\u001b[39;49m\u001b[43m[\u001b[49m\u001b[38;5;124;43m'\u001b[39;49m\u001b[38;5;124;43ma\u001b[39;49m\u001b[38;5;124;43m'\u001b[39;49m\u001b[43m,\u001b[49m\u001b[38;5;124;43m'\u001b[39;49m\u001b[38;5;124;43mb\u001b[39;49m\u001b[38;5;124;43m'\u001b[39;49m\u001b[43m,\u001b[49m\u001b[38;5;124;43m'\u001b[39;49m\u001b[38;5;124;43mc\u001b[39;49m\u001b[38;5;124;43m'\u001b[39;49m\u001b[43m]\u001b[49m\n\u001b[1;32m      2\u001b[0m l2 \u001b[38;5;241m=\u001b[39m\u001b[38;5;28mstr\u001b[39m[\u001b[38;5;124m'\u001b[39m\u001b[38;5;124mx\u001b[39m\u001b[38;5;124m'\u001b[39m,\u001b[38;5;124m'\u001b[39m\u001b[38;5;124my\u001b[39m\u001b[38;5;124m'\u001b[39m,\u001b[38;5;124m'\u001b[39m\u001b[38;5;124mz\u001b[39m\u001b[38;5;124m'\u001b[39m]\n",
      "\u001b[0;31mTypeError\u001b[0m: 'type' object is not subscriptable"
     ]
    }
   ],
   "source": [
    "l1 =str['a','b','c']\n",
    "l2 =str['x','y','z']"
   ]
  },
  {
   "cell_type": "code",
   "execution_count": null,
   "id": "fb638a00-2744-47c0-9c3c-89fe218a7fba",
   "metadata": {},
   "outputs": [],
   "source": [
    "num = l"
   ]
  },
  {
   "cell_type": "code",
   "execution_count": null,
   "id": "e0cb7cea-6853-4803-a45c-4e1cd773890f",
   "metadata": {},
   "outputs": [],
   "source": [
    "for i in l :\n",
    "    num = num.replace(l1,l2)"
   ]
  },
  {
   "cell_type": "code",
   "execution_count": null,
   "id": "aae28f4d-5b0f-4faf-b896-f22cf8a7345e",
   "metadata": {},
   "outputs": [],
   "source": [
    "print(num)"
   ]
  },
  {
   "cell_type": "code",
   "execution_count": 19,
   "id": "46c00ec4-97e6-4f11-88d1-024126e82251",
   "metadata": {},
   "outputs": [
    {
     "name": "stdout",
     "output_type": "stream",
     "text": [
      "i$wxnt$to$yezome$x$dxtx$szientist\n"
     ]
    }
   ],
   "source": [
    "# Ans+-2\n",
    "Input_Sentence = 'I want to become a Data Scientist'\n",
    "input_Line=Input_Sentence.lower()\n",
    "\n",
    "x = {\"a\": \"x\", \"b\": \"y\",\n",
    "\t\t\"c\": \"z\",\" \":\"$\"}\n",
    "num = input_Line\n",
    "# Replace vowels using loops\n",
    "for i in x:\n",
    "\tnum = num.replace(i, x[i])\n",
    "\n",
    "# f- strings which improves readability\n",
    "print(num)\n"
   ]
  },
  {
   "cell_type": "code",
   "execution_count": 14,
   "id": "cb4b5c8f-c9f9-4685-872d-0de992216db4",
   "metadata": {},
   "outputs": [],
   "source": []
  },
  {
   "cell_type": "code",
   "execution_count": 15,
   "id": "59894cdc-79cc-4011-9d0b-0c327025274d",
   "metadata": {},
   "outputs": [
    {
     "data": {
      "text/plain": [
       "str"
      ]
     },
     "execution_count": 15,
     "metadata": {},
     "output_type": "execute_result"
    }
   ],
   "source": []
  },
  {
   "cell_type": "code",
   "execution_count": null,
   "id": "3374b424-f2cd-4ad1-82af-3a1256f7302f",
   "metadata": {},
   "outputs": [],
   "source": []
  }
 ],
 "metadata": {
  "kernelspec": {
   "display_name": "Python 3 (ipykernel)",
   "language": "python",
   "name": "python3"
  },
  "language_info": {
   "codemirror_mode": {
    "name": "ipython",
    "version": 3
   },
   "file_extension": ".py",
   "mimetype": "text/x-python",
   "name": "python",
   "nbconvert_exporter": "python",
   "pygments_lexer": "ipython3",
   "version": "3.10.6"
  }
 },
 "nbformat": 4,
 "nbformat_minor": 5
}
